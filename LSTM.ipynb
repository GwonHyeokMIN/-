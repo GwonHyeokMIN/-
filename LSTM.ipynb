{
  "nbformat": 4,
  "nbformat_minor": 0,
  "metadata": {
    "colab": {
      "name": "0730",
      "private_outputs": true,
      "provenance": [],
      "authorship_tag": "ABX9TyOMviVd6NBqIpjiMnWqnOze",
      "include_colab_link": true
    },
    "kernelspec": {
      "name": "python3",
      "display_name": "Python 3"
    },
    "language_info": {
      "name": "python"
    },
    "accelerator": "GPU"
  },
  "cells": [
    {
      "cell_type": "markdown",
      "metadata": {
        "id": "view-in-github",
        "colab_type": "text"
      },
      "source": [
        "<a href=\"https://colab.research.google.com/github/GwonHyeokMIN/-/blob/main/LSTM.ipynb\" target=\"_parent\"><img src=\"https://colab.research.google.com/assets/colab-badge.svg\" alt=\"Open In Colab\"/></a>"
      ]
    },
    {
      "cell_type": "code",
      "metadata": {
        "id": "JHWTOKAtSEm3"
      },
      "source": [
        "import torch\n",
        "import torch.nn as nn"
      ],
      "execution_count": null,
      "outputs": []
    },
    {
      "cell_type": "code",
      "metadata": {
        "id": "NWZ1fx0SSaKI"
      },
      "source": [
        "class LSTM(nn.Module):\n",
        "    def __init__(self,input_size,hidden_size,output_size):\n",
        "        super(LSTM,self).__init__()\n",
        "        self.hidden_size = hidden_size\n",
        "        self.i2h = nn.Linear(input_size,hidden_size)\n",
        "        self.h2h = nn.Linear(hidden_size*2,hidden_size)\n",
        "        self.tan = nn.Tanh()\n",
        "        self.sig = nn.Sigmoid()\n",
        "        self.h20 = nn.Linear(hidden_size,output_size)\n",
        "        self.dropout = nn.Dropout(0.1)\n",
        "        self.softmax = nn.LogSoftmax(dim=-1)\n",
        "    \n",
        "    def forward(self,input,prev_hidden,prev_cell):\n",
        "        hidden = self.i2h(input)\n",
        "        hidden = self.h2h(torch.cat((hidden,prev_hidden),dim=-1))\n",
        "        cell1 = self.sig(hidden)*prev_cell\n",
        "        cell2 = self.sig(hidden)*self.tan(hidden)\n",
        "        cell = cell1 + cell2\n",
        "        hidden = self.sig(hidden)*self.tan(cell)\n",
        "        output = self.h20(hidden)\n",
        "        output = self.dropout(output)\n",
        "        output = self.softmax(output)\n",
        "\n",
        "        return output,hidden,cell\n",
        "        \n",
        "\n",
        "    def initHidden(self):\n",
        "        return torch.zeros(1,self.hidden_size)\n",
        "    \n",
        "    def initCell(self):\n",
        "        return torch.zeros(1,self.hidden_size)"
      ],
      "execution_count": null,
      "outputs": []
    },
    {
      "cell_type": "code",
      "metadata": {
        "id": "cCg8r1aJW3HB"
      },
      "source": [
        "device=torch.device(\"cuda\" if torch.cuda.is_available() else \"cpu\")\n",
        "print(device)\n",
        "x=torch.Tensor([[1,0],[0,1],[1,0],[0,1]]).to(device)\n",
        "y=torch.Tensor([[1,0,0,1]]).transpose(0,1).type(torch.LongTensor).to(device)\n",
        "lstm=LSTM(2,64,2).to(device)\n",
        "\n",
        "criterion=torch.nn.NLLLoss()\n",
        "optimizer=torch.optim.Adam(lstm.parameters(),lr=1e-4)\n",
        "\n",
        "epochs=10000\n",
        "for i in range(epochs):\n",
        "    total_loss=0\n",
        "    hidden=lstm.initHidden().to(device)\n",
        "    cell=lstm.initCell().to(device)\n",
        "\n",
        "    for time,time_step in enumerate(x):\n",
        "        output,hidden,cell=lstm(time_step.unsqueeze(0),hidden,cell)\n",
        "        loss=criterion(output,y[time])\n",
        "        total_loss+=loss\n",
        "    optimizer.zero_grad()\n",
        "    total_loss.backward(retain_graph=True)\n",
        "    optimizer.step()\n",
        "\n",
        "    if i%1000 == 0:\n",
        "        print(total_loss)"
      ],
      "execution_count": null,
      "outputs": []
    },
    {
      "cell_type": "code",
      "metadata": {
        "id": "Z4qlUFwoBpP-"
      },
      "source": [
        "hidden=lstm.initHidden().to(device)\n",
        "cell=lstm.initCell().to(device)\n",
        "start=torch.Tensor([[1,0]]).to(device)\n",
        "for time,_ in enumerate(x):\n",
        "    output,hidden,cell=lstm(start,hidden,cell)\n",
        "    value,pred=torch.max(output,dim=-1)\n",
        "    print(start)\n",
        "    if pred.item() == 0:\n",
        "        start=torch.Tensor([[1,0]]).to(device)\n",
        "    else:\n",
        "        start=torch.Tensor([[0,1]]).to(device)       \n",
        "    print(pred)"
      ],
      "execution_count": null,
      "outputs": []
    },
    {
      "cell_type": "markdown",
      "metadata": {
        "id": "VaiVsimQJBsJ"
      },
      "source": [
        ""
      ]
    }
  ]
}