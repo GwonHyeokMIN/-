{
  "nbformat": 4,
  "nbformat_minor": 0,
  "metadata": {
    "colab": {
      "name": "과제2.1",
      "private_outputs": true,
      "provenance": [],
      "collapsed_sections": [],
      "mount_file_id": "1esa6P1N8U6Kuw5_4HxIJYnqDdzsbk8a7",
      "authorship_tag": "ABX9TyPsn5GH3zNWKYyH4TxKjXYM",
      "include_colab_link": true
    },
    "kernelspec": {
      "name": "python3",
      "display_name": "Python 3"
    },
    "language_info": {
      "name": "python"
    },
    "accelerator": "GPU"
  },
  "cells": [
    {
      "cell_type": "markdown",
      "metadata": {
        "id": "view-in-github",
        "colab_type": "text"
      },
      "source": [
        "<a href=\"https://colab.research.google.com/github/GwonHyeokMIN/-/blob/main/%EA%B3%BC%EC%A0%9C2_1.ipynb\" target=\"_parent\"><img src=\"https://colab.research.google.com/assets/colab-badge.svg\" alt=\"Open In Colab\"/></a>"
      ]
    },
    {
      "cell_type": "code",
      "metadata": {
        "id": "VcjCBD6erD-X"
      },
      "source": [
        "import tensorflow as tf\n",
        "import matplotlib.pyplot as plt\n",
        "from tensorflow.keras import datasets, layers, models, losses\n",
        "from keras.layers import Dense, GlobalAveragePooling2D\n",
        "from keras.preprocessing.image import ImageDataGenerator\n",
        "from keras.applications.vgg16 import VGG16, preprocess_input\n",
        "import zipfile\n",
        "from keras import optimizers\n",
        "from keras.models import Model"
      ],
      "execution_count": null,
      "outputs": []
    },
    {
      "cell_type": "code",
      "metadata": {
        "id": "28_gQgSOudg-"
      },
      "source": [
        "path = '/content/drive/MyDrive/Colab Notebooks/cats_and_dogs_filtered.zip'\n",
        "data = zipfile.ZipFile(path,'r')\n",
        "data.extractall('/tmp')\n",
        "data.close()\n",
        "train_datagen = tf.keras.preprocessing.image.ImageDataGenerator(rescale = 1./255)\n",
        "test_datagen = tf.keras.preprocessing.image.ImageDataGenerator(rescale = 1./255)\n",
        "train_set = train_datagen.flow_from_directory(\n",
        "    '/tmp/cats_and_dogs_filtered/train',\n",
        "    target_size = (224, 224),\n",
        "    batch_size = 32,\n",
        "    class_mode = 'binary')\n",
        "test_set = test_datagen.flow_from_directory(\n",
        "    '/tmp/cats_and_dogs_filtered/validation',\n",
        "    target_size = (224, 224),\n",
        "    batch_size = 32,\n",
        "    class_mode = 'binary')\n",
        "train_step = train_set.n//32\n",
        "test_step = test_set.n//32"
      ],
      "execution_count": null,
      "outputs": []
    },
    {
      "cell_type": "code",
      "metadata": {
        "id": "i9wkBM6vsDTz"
      },
      "source": [
        "vgg16_base = tf.keras.applications.VGG16(include_top=False,\n",
        "                                         input_shape=(224,224,3))\n",
        "vgg16 = tf.keras.models.Sequential([\n",
        "                                    vgg16_base,\n",
        "                                    tf.keras.layers.Flatten(),\n",
        "                                    tf.keras.layers.Dense(1024,activation='relu'),\n",
        "                                    tf.keras.layers.Dense(512,activation='relu'),\n",
        "                                    tf.keras.layers.Dense(1,activation='sigmoid'),\n",
        "])\n",
        "vgg16.summary()"
      ],
      "execution_count": null,
      "outputs": []
    },
    {
      "cell_type": "code",
      "metadata": {
        "id": "H_g0ZrTGt1Bt"
      },
      "source": [
        "vgg16.compile(optimizer = tf.keras.optimizers.Adam(1e-4),\n",
        "            loss = 'binary_crossentropy',\n",
        "            metrics = ['accuracy'])\n",
        "\n",
        "history = vgg16.fit_generator(train_set,\n",
        "                              steps_per_epoch=train_step,\n",
        "                              epochs=8,\n",
        "                              validation_data=test_set,\n",
        "                              validation_steps=test_step)"
      ],
      "execution_count": null,
      "outputs": []
    },
    {
      "cell_type": "code",
      "metadata": {
        "id": "mQcFK-H-t-nQ"
      },
      "source": [
        "fig,axs = plt.subplots(2,1,figsize=(15,15))\n",
        "axs[0].plot(history.history['loss'])\n",
        "axs[0].plot(history.history['val_loss'])\n",
        "axs[0].title.set_text('Training Loss vs Validation Loss')\n",
        "axs[0].legend(['Train', 'val'])\n",
        "axs[1].plot(history.history['accuracy'])\n",
        "axs[1].plot(history.history['val_accuracy'])\n",
        "axs[1].title.set_text('Training Accuracy vs Validation Accuracy')\n",
        "axs[1].legend(['Train','var'])"
      ],
      "execution_count": null,
      "outputs": []
    }
  ]
}